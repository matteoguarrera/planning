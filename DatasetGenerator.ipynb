{
 "cells": [
  {
   "cell_type": "code",
   "execution_count": 1,
   "id": "123c3f8a",
   "metadata": {},
   "outputs": [],
   "source": [
    "import numpy as np\n",
    "import scipy\n",
    "import pickle\n",
    "import matplotlib.pyplot as plt"
   ]
  },
  {
   "cell_type": "markdown",
   "id": "0062b867",
   "metadata": {},
   "source": [
    "# Import dynamic systems"
   ]
  },
  {
   "cell_type": "code",
   "execution_count": 2,
   "id": "c6afe22f",
   "metadata": {
    "ExecuteTime": {
     "end_time": "2023-04-23T16:42:52.361833Z",
     "start_time": "2023-04-23T16:42:52.355587Z"
    }
   },
   "outputs": [],
   "source": [
    "from dynamics import *\n",
    "A, B, x_target, n_state, n_input, name = dynamics_2D()\n",
    "# A, B, x_target, n_state, n_input, name = dynamics_3D()\n",
    "# A, B, x_target, n_state, n_input, name = dynamics_Drone()"
   ]
  },
  {
   "cell_type": "markdown",
   "id": "b6072fb2",
   "metadata": {},
   "source": [
    "# Generate Synthetic Dataset LQR"
   ]
  },
  {
   "cell_type": "code",
   "execution_count": 3,
   "id": "a91e6c94",
   "metadata": {
    "ExecuteTime": {
     "end_time": "2023-04-23T16:42:55.420852Z",
     "start_time": "2023-04-23T16:42:54.030592Z"
    }
   },
   "outputs": [],
   "source": [
    "n_rand_controllers = 500 # how many random controllers we want to generate\n",
    "rollout_len = 250 # how many time steps a rollout is\n",
    "\n",
    "x_data = np.zeros((n_rand_controllers * rollout_len, n_state))\n",
    "u_data = np.zeros((n_rand_controllers * rollout_len, n_input))\n",
    "finish_token = np.zeros((n_rand_controllers * rollout_len,))\n",
    "\n",
    "for i_contr in range(n_rand_controllers):\n",
    "\n",
    "    np.random.seed(i_contr)\n",
    "    Q = np.random.uniform(low=0.0, high=1.0, size=(n_state,n_state))\n",
    "    Q = Q@Q.T #+ np.eye(n_state)\n",
    "#     Q[0,0] += 10\n",
    "#     Q[2,2] += 10\n",
    "    R = np.random.uniform(low=0.0, high=1.0, size=(n_input,n_input))\n",
    "    R = R@R.T\n",
    "    \n",
    "    # steady state lqr\n",
    "    X = scipy.linalg.solve_discrete_are(A, B, Q, R)\n",
    "    F = np.linalg.inv(R + B.T@X@B)@B.T@X@A\n",
    "#     print(F.shape)\n",
    "    \n",
    "    x0 = np.random.uniform(low=-5.0, high=5.0, size=(n_state,1))\n",
    "    x_data[i_contr*rollout_len, :] = x0.reshape(n_state,)\n",
    "    \n",
    "    for i_rollout in range(rollout_len):\n",
    "        \n",
    "        if np.linalg.norm(x_data[i_contr*rollout_len + i_rollout, :] - x_target) < 0.05:\n",
    "#             print('finish1')\n",
    "            finish_token[i_contr*rollout_len + i_rollout] = 1.0\n",
    "            break\n",
    "        if i_rollout == (rollout_len-1):\n",
    "#             print('finish2')\n",
    "            finish_token[i_contr*rollout_len + i_rollout] = 1.0\n",
    "            break\n",
    "        u_data[i_contr*rollout_len + i_rollout,:] = -F@x_data[i_contr*rollout_len + i_rollout,:]\n",
    "        x_data[i_contr*rollout_len + i_rollout + 1,:] = A@x_data[i_contr*rollout_len + i_rollout,:] + B@u_data[i_contr*rollout_len + i_rollout,:]\n",
    "\n",
    "aux = (u_data == np.zeros((1,n_input))).sum(axis=1)\n",
    "aux1 = np.setdiff1d(np.nonzero(aux), np.nonzero(finish_token))\n",
    "x_data = np.delete(x_data, aux1, 0)\n",
    "u_data = np.delete(u_data, aux1, 0)\n",
    "finish_token = np.delete(finish_token, aux1, 0)"
   ]
  },
  {
   "cell_type": "markdown",
   "id": "b7fb2569",
   "metadata": {},
   "source": [
    "# Store"
   ]
  },
  {
   "cell_type": "code",
   "execution_count": 7,
   "id": "49ae599c",
   "metadata": {},
   "outputs": [],
   "source": [
    "import os\n",
    "os.mkdir('./datasets')"
   ]
  },
  {
   "cell_type": "code",
   "execution_count": 8,
   "id": "2e502fd5",
   "metadata": {
    "ExecuteTime": {
     "end_time": "2023-04-23T16:42:57.287341Z",
     "start_time": "2023-04-23T16:42:57.276241Z"
    }
   },
   "outputs": [],
   "source": [
    "data = {'obs': x_data,\n",
    "        'action': u_data,\n",
    "        'finish_token': finish_token}\n",
    "\n",
    "with open(f'./datasets/dataset_{name}.pkl', 'wb') as handle:\n",
    "    pickle.dump(data, handle, protocol=pickle.HIGHEST_PROTOCOL)\n",
    "\n",
    "handle.close()"
   ]
  },
  {
   "cell_type": "markdown",
   "id": "fe4a3ed0",
   "metadata": {},
   "source": [
    "---\n",
    "# Maybe can be deleted"
   ]
  },
  {
   "cell_type": "code",
   "execution_count": null,
   "id": "763f046c",
   "metadata": {},
   "outputs": [],
   "source": [
    "print(u_data.shape)\n",
    "np.nonzero(aux)"
   ]
  },
  {
   "cell_type": "code",
   "execution_count": null,
   "id": "c690fbce",
   "metadata": {},
   "outputs": [],
   "source": [
    "num = 5\n",
    "idx_start = np.nonzero(finish_token)[0][num]\n",
    "idx_end = np.nonzero(finish_token)[0][num+1]\n",
    "plt.plot(x_data[idx_start+1:idx_end+1, 0])"
   ]
  },
  {
   "cell_type": "code",
   "execution_count": null,
   "id": "ee6d94b6",
   "metadata": {},
   "outputs": [],
   "source": []
  },
  {
   "cell_type": "code",
   "execution_count": null,
   "id": "43468eeb",
   "metadata": {},
   "outputs": [],
   "source": []
  },
  {
   "cell_type": "code",
   "execution_count": null,
   "id": "59d86021",
   "metadata": {},
   "outputs": [],
   "source": [
    "import pickle\n",
    "f = open('dataset_lqr.pkl', 'rb')\n",
    "dataset = pickle.load(f)\n",
    "f.close()"
   ]
  },
  {
   "cell_type": "code",
   "execution_count": null,
   "id": "26907439",
   "metadata": {},
   "outputs": [],
   "source": [
    "dataset['observations'].shape"
   ]
  },
  {
   "cell_type": "code",
   "execution_count": null,
   "id": "3f029161",
   "metadata": {},
   "outputs": [],
   "source": [
    "obs_1 = A@obs + B@act"
   ]
  }
 ],
 "metadata": {
  "kernelspec": {
   "display_name": "Python 3 (ipykernel)",
   "language": "python",
   "name": "python3"
  },
  "language_info": {
   "codemirror_mode": {
    "name": "ipython",
    "version": 3
   },
   "file_extension": ".py",
   "mimetype": "text/x-python",
   "name": "python",
   "nbconvert_exporter": "python",
   "pygments_lexer": "ipython3",
   "version": "3.10.7"
  }
 },
 "nbformat": 4,
 "nbformat_minor": 5
}
