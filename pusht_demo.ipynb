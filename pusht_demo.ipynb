{
 "cells": [
  {
   "cell_type": "code",
   "execution_count": 4,
   "metadata": {
    "colab": {
     "base_uri": "https://localhost:8080/"
    },
    "id": "VrX4VTl5pYNq",
    "outputId": "0d252dae-49b3-4c09-b0af-c967b9f8a04f",
    "ExecuteTime": {
     "start_time": "2023-04-20T15:08:47.977359Z",
     "end_time": "2023-04-20T15:08:47.979780Z"
    }
   },
   "outputs": [],
   "source": [
    "import torch\n",
    "\n",
    "#@markdown ### **Imports**\n",
    "# diffusion policy import\n",
    "from imports import *"
   ]
  },
  {
   "cell_type": "code",
   "execution_count": 5,
   "metadata": {
    "id": "L5E-nR6ornyg",
    "cellView": "form",
    "ExecuteTime": {
     "start_time": "2023-04-20T15:08:50.109040Z",
     "end_time": "2023-04-20T15:08:50.110399Z"
    }
   },
   "outputs": [],
   "source": [
    "#@markdown ### **Environment**\n",
    "#@markdown Defines a PyMunk-based Push-T environment `PushTEnv`.\n",
    "#@markdown \n",
    "#@markdown **Goal**: push the gray T-block into the green area.\n",
    "#@markdown\n",
    "#@markdown Adapted from [Implicit Behavior Cloning](https://implicitbc.github.io/)\n",
    "\n",
    "\n",
    "positive_y_is_up: bool = False\n",
    "\"\"\"Make increasing values of y point upwards.\n",
    "\n",
    "When True::\n",
    "\n",
    "    y\n",
    "    ^\n",
    "    |      . (3, 3)\n",
    "    |\n",
    "    |   . (2, 2)\n",
    "    |\n",
    "    +------ > x\n",
    "    \n",
    "When False::\n",
    "\n",
    "    +------ > x\n",
    "    |\n",
    "    |   . (2, 2)\n",
    "    |\n",
    "    |      . (3, 3)\n",
    "    v\n",
    "    y\n",
    "    \n",
    "\"\"\"\n",
    "\n",
    "def to_pygame(p: Tuple[float, float], surface: pygame.Surface) -> Tuple[int, int]:\n",
    "    \"\"\"Convenience method to convert pymunk coordinates to pygame surface\n",
    "    local coordinates.\n",
    "\n",
    "    Note that in case positive_y_is_up is False, this function wont actually do\n",
    "    anything except converting the point to integers.\n",
    "    \"\"\"\n",
    "    if positive_y_is_up:\n",
    "        return round(p[0]), surface.get_height() - round(p[1])\n",
    "    else:\n",
    "        return round(p[0]), round(p[1])\n",
    "\n",
    "\n",
    "def light_color(color: SpaceDebugColor):\n",
    "    color = np.minimum(1.2 * np.float32([color.r, color.g, color.b, color.a]), np.float32([255]))\n",
    "    color = SpaceDebugColor(r=color[0], g=color[1], b=color[2], a=color[3])\n",
    "    return color\n",
    "\n",
    "from draw import DrawOptions\n",
    "\n",
    "def pymunk_to_shapely(body, shapes):\n",
    "    geoms = list()\n",
    "    for shape in shapes:\n",
    "        if isinstance(shape, pymunk.shapes.Poly):\n",
    "            verts = [body.local_to_world(v) for v in shape.get_vertices()]\n",
    "            verts += [verts[0]]\n",
    "            geoms.append(sg.Polygon(verts))\n",
    "        else:\n",
    "            raise RuntimeError(f'Unsupported shape type {type(shape)}')\n",
    "    geom = sg.MultiPolygon(geoms)\n",
    "    return geom\n",
    "\n",
    "# env\n",
    "from PushTEnv import PushTEnv\n"
   ]
  },
  {
   "cell_type": "code",
   "execution_count": 5,
   "metadata": {
    "colab": {
     "base_uri": "https://localhost:8080/"
    },
    "id": "OknH8Qfqrtc9",
    "outputId": "1fcf4569-ff4a-4017-ff1a-1c0c30286e3f",
    "ExecuteTime": {
     "start_time": "2023-04-20T09:38:41.083781Z",
     "end_time": "2023-04-20T09:38:41.125786Z"
    }
   },
   "outputs": [
    {
     "name": "stdout",
     "output_type": "stream",
     "text": [
      "Obs:  array([123.1774, 114.5621, 292.    , 351.    ,   2.9196])\n",
      "Obs:        [agent_x,  agent_y,  block_x,  block_y,    block_angle]\n",
      "Action:  array([90.25  , 99.2261])\n",
      "Action:   [target_agent_x, target_agent_y]\n"
     ]
    }
   ],
   "source": [
    "#@markdown ### **Env Demo**\n",
    "#@markdown Standard Gym Env (0.21.0 API)\n",
    "\n",
    "# 0. create env object\n",
    "env = PushTEnv()\n",
    "\n",
    "# 1. seed env for initial state. \n",
    "# Seed 0-200 are used for the demonstration dataset.\n",
    "env.seed(1000)\n",
    "\n",
    "# 2. must reset before use\n",
    "obs = env.reset()\n",
    "\n",
    "# 3. 2D positional action space [0,512]\n",
    "action = env.action_space.sample()\n",
    "\n",
    "# 4. Standard gym step method\n",
    "obs, reward, done, info = env.step(action)\n",
    "\n",
    "# prints and explains each dimension of the observation and action vectors\n",
    "with np.printoptions(precision=4, suppress=True, threshold=5):\n",
    "    print(\"Obs: \", repr(obs))\n",
    "    print(\"Obs:        [agent_x,  agent_y,  block_x,  block_y,    block_angle]\")\n",
    "    print(\"Action: \", repr(action))\n",
    "    print(\"Action:   [target_agent_x, target_agent_y]\")\n",
    "\n"
   ]
  },
  {
   "cell_type": "code",
   "execution_count": 4,
   "metadata": {
    "id": "nyqCUfh_ImAu",
    "colab": {
     "base_uri": "https://localhost:8080/",
     "height": 451
    },
    "outputId": "53caf4ec-d14c-447d-9300-a5be02455f29",
    "ExecuteTime": {
     "start_time": "2023-04-20T09:35:30.289753Z",
     "end_time": "2023-04-20T09:35:30.438452Z"
    }
   },
   "outputs": [
    {
     "data": {
      "text/plain": "<matplotlib.image.AxesImage at 0x7f9c53f217c0>"
     },
     "execution_count": 4,
     "metadata": {},
     "output_type": "execute_result"
    },
    {
     "data": {
      "text/plain": "<Figure size 640x480 with 1 Axes>",
      "image/png": "[encoded data removed]"
     },
     "metadata": {},
     "output_type": "display_data"
    }
   ],
   "source": [
    "import matplotlib.pyplot as plt\n",
    "\n",
    "plt.imshow(env.render(mode = 'rgb_array'))"
   ]
  },
  {
   "cell_type": "code",
   "execution_count": null,
   "metadata": {
    "id": "vHepJOFBucwg"
   },
   "outputs": [],
   "source": []
  },
  {
   "cell_type": "code",
   "execution_count": 7,
   "metadata": {
    "colab": {
     "base_uri": "https://localhost:8080/"
    },
    "id": "9ZiHF3lzvB6k",
    "outputId": "771d5501-c5ff-4348-cf4c-2e71670f332a",
    "ExecuteTime": {
     "start_time": "2023-04-20T15:09:29.640339Z",
     "end_time": "2023-04-20T15:09:30.571778Z"
    }
   },
   "outputs": [
    {
     "name": "stdout",
     "output_type": "stream",
     "text": [
      "batch['obs'].shape: torch.Size([256, 2, 5])\n",
      "batch['action'].shape torch.Size([256, 16, 2])\n"
     ]
    }
   ],
   "source": [
    "#@markdown ### **Dataset Demo**\n",
    "from PushTDataset import *\n",
    "\n",
    "# download demonstration data from Google Drive\n",
    "dataset_path = \"pusht_cchi_v7_replay.zarr.zip\"\n",
    "if not os.path.isfile(dataset_path):\n",
    "    id = \"1KY1InLurpMvJDRb14L9NlXT_fEsCvVUq&confirm=t\"\n",
    "    gdown.download(id=id, output=dataset_path, quiet=False)\n",
    "\n",
    "# parameters\n",
    "pred_horizon = 16\n",
    "obs_horizon = 2\n",
    "action_horizon = 8\n",
    "#|o|o|                             observations: 2\n",
    "#| |a|a|a|a|a|a|a|a|               actions executed: 8\n",
    "#|p|p|p|p|p|p|p|p|p|p|p|p|p|p|p|p| actions predicted: 16\n",
    "\n",
    "# create dataset from file\n",
    "dataset = PushTStateDataset(\n",
    "    dataset_path=dataset_path,\n",
    "    pred_horizon=pred_horizon,\n",
    "    obs_horizon=obs_horizon,\n",
    "    action_horizon=action_horizon\n",
    ")\n",
    "# save training data statistics (min, max) for each dim\n",
    "stats = dataset.stats\n",
    "\n",
    "# create dataloader\n",
    "dataloader = torch.utils.data.DataLoader(\n",
    "    dataset,\n",
    "    batch_size=256,\n",
    "    num_workers=1,\n",
    "    shuffle=True,\n",
    "    # accelerate cpu-gpu transfer\n",
    "    pin_memory=True, \n",
    "    # don't kill worker process afte each epoch\n",
    "    persistent_workers=True \n",
    ")\n",
    "\n",
    "# visualize data in batch\n",
    "batch = next(iter(dataloader))\n",
    "print(\"batch['obs'].shape:\", batch['obs'].shape)\n",
    "print(\"batch['action'].shape\", batch['action'].shape)"
   ]
  },
  {
   "cell_type": "code",
   "execution_count": 7,
   "metadata": {
    "cellView": "form",
    "id": "X-XRB_g3vsgf",
    "ExecuteTime": {
     "start_time": "2023-04-20T09:39:37.738141Z",
     "end_time": "2023-04-20T09:39:37.814488Z"
    }
   },
   "outputs": [],
   "source": []
  },
  {
   "cell_type": "code",
   "execution_count": null,
   "metadata": {
    "id": "t_FonnTqH2ba"
   },
   "outputs": [],
   "source": []
  },
  {
   "cell_type": "code",
   "execution_count": null,
   "metadata": {
    "id": "NleIwRC_H2eF"
   },
   "outputs": [],
   "source": []
  },
  {
   "cell_type": "code",
   "execution_count": null,
   "metadata": {
    "id": "2VjMiYs4H2gt"
   },
   "outputs": [],
   "source": []
  },
  {
   "cell_type": "code",
   "execution_count": 10,
   "metadata": {
    "colab": {
     "base_uri": "https://localhost:8080/"
    },
    "id": "4APZkqh336-M",
    "outputId": "be866fc5-693e-4cc9-8422-29118a677915",
    "ExecuteTime": {
     "start_time": "2023-04-20T15:10:07.883789Z",
     "end_time": "2023-04-20T15:10:08.176000Z"
    }
   },
   "outputs": [
    {
     "name": "stdout",
     "output_type": "stream",
     "text": [
      "number of parameters: 6.532455e+07\n"
     ]
    }
   ],
   "source": [
    "from Components import *\n",
    "\n",
    "#@markdown ### **Network Demo**\n",
    "\n",
    "# observation and action dimensions corrsponding to\n",
    "# the output of PushTEnv\n",
    "obs_dim = 4\n",
    "action_dim = 2\n",
    "\n",
    "# create network object\n",
    "noise_pred_net = ConditionalUnet1D(\n",
    "    input_dim=action_dim,\n",
    "    global_cond_dim=obs_dim*obs_horizon\n",
    ")\n",
    "\n",
    "# example inputs\n",
    "noised_action = torch.randn((1, pred_horizon, action_dim))\n",
    "obs = torch.zeros((1, obs_horizon, obs_dim))\n",
    "diffusion_iter = torch.zeros((1,))\n",
    "\n",
    "# the noise prediction network\n",
    "# takes noisy action, diffusion iteration and observation as input\n",
    "# predicts the noise added to action\n",
    "noise = noise_pred_net(\n",
    "    sample=noised_action, \n",
    "    timestep=diffusion_iter,\n",
    "    global_cond=obs.flatten(start_dim=1))\n",
    "\n",
    "# illustration of removing noise \n",
    "# the actual noise removal is performed by NoiseScheduler \n",
    "# and is dependent on the diffusion noise schedule\n",
    "denoised_action = noised_action - noise\n",
    "\n",
    "# for this demo, we use DDPMScheduler with 100 diffusion iterations\n",
    "num_diffusion_iters = 100\n",
    "noise_scheduler = DDPMScheduler(\n",
    "    num_train_timesteps=num_diffusion_iters,\n",
    "    # the choise of beta schedule has big impact on performance\n",
    "    # we found squared cosine works the best\n",
    "    beta_schedule='squaredcos_cap_v2',\n",
    "    # clip output to [-1,1] to improve stability\n",
    "    clip_sample=True,\n",
    "    # our network predicts noise (instead of denoised action)\n",
    "    prediction_type='epsilon'\n",
    ")\n",
    "\n",
    "# device transfer\n",
    "device = torch.device('cuda')\n",
    "_ = noise_pred_net.to(device)"
   ]
  },
  {
   "cell_type": "code",
   "execution_count": null,
   "metadata": {
    "id": "93E9RdnR4D8v"
   },
   "outputs": [],
   "source": [
    "#@markdown ### **Training**\n",
    "#@markdown\n",
    "#@markdown Takes about an hour. If you don't want to wait, skip to the next cell\n",
    "#@markdown to load pre-trained weights\n",
    "\n",
    "num_epochs = 100\n",
    "\n",
    "# Exponential Moving Average\n",
    "# accelerates training and improves stability\n",
    "# holds a copy of the model weights\n",
    "ema = EMAModel(\n",
    "    model=noise_pred_net,\n",
    "    power=0.75)\n",
    "\n",
    "# Standard ADAM optimizer\n",
    "# Note that EMA parametesr are not optimized\n",
    "optimizer = torch.optim.AdamW(\n",
    "    params=noise_pred_net.parameters(), \n",
    "    lr=1e-4, weight_decay=1e-6)\n",
    "\n",
    "# Cosine LR schedule with linear warmup\n",
    "lr_scheduler = get_scheduler(\n",
    "    name='cosine',\n",
    "    optimizer=optimizer,\n",
    "    num_warmup_steps=500,\n",
    "    num_training_steps=len(dataloader) * num_epochs\n",
    ")\n",
    "\n",
    "with tqdm(range(num_epochs), desc='Epoch') as tglobal:\n",
    "    # epoch loop\n",
    "    for epoch_idx in tglobal:\n",
    "        epoch_loss = list()\n",
    "        # batch loop\n",
    "        with tqdm(dataloader, desc='Batch', leave=False) as tepoch:\n",
    "            for nbatch in tepoch:\n",
    "                # data normalized in dataset\n",
    "                # device transfer\n",
    "                nobs = nbatch['obs'].to(device)\n",
    "                naction = nbatch['action'].to(device)\n",
    "                B = nobs.shape[0]\n",
    "\n",
    "                # observation as FiLM conditioning\n",
    "                # (B, obs_horizon, obs_dim)\n",
    "                obs_cond = nobs[:,:obs_horizon,:]\n",
    "                # (B, obs_horizon * obs_dim)\n",
    "                obs_cond = obs_cond.flatten(start_dim=1)\n",
    "\n",
    "                # sample noise to add to actions\n",
    "                noise = torch.randn(naction.shape, device=device)\n",
    "\n",
    "                # sample a diffusion iteration for each data point\n",
    "                timesteps = torch.randint(\n",
    "                    0, noise_scheduler.config.num_train_timesteps, \n",
    "                    (B,), device=device\n",
    "                ).long()\n",
    "\n",
    "                # add noise to the clean images according to the noise magnitude at each diffusion iteration\n",
    "                # (this is the forward diffusion process)\n",
    "                noisy_actions = noise_scheduler.add_noise(\n",
    "                    naction, noise, timesteps)\n",
    "                \n",
    "                # predict the noise residual\n",
    "                noise_pred = noise_pred_net(\n",
    "                    noisy_actions, timesteps, global_cond=obs_cond)\n",
    "                \n",
    "                # L2 loss\n",
    "                loss = nn.functional.mse_loss(noise_pred, noise)\n",
    "\n",
    "                # optimize\n",
    "                loss.backward()\n",
    "                optimizer.step()\n",
    "                optimizer.zero_grad()\n",
    "                # step lr scheduler every batch\n",
    "                # this is different from standard pytorch behavior\n",
    "                lr_scheduler.step()\n",
    "\n",
    "                # update Exponential Moving Average of the model weights\n",
    "                ema.step(noise_pred_net)\n",
    "\n",
    "                # logging\n",
    "                loss_cpu = loss.item()\n",
    "                epoch_loss.append(loss_cpu)\n",
    "                tepoch.set_postfix(loss=loss_cpu)\n",
    "        tglobal.set_postfix(loss=np.mean(epoch_loss))\n",
    "\n",
    "# Weights of the EMA model\n",
    "# is used for inference\n",
    "ema_noise_pred_net = ema.averaged_model"
   ]
  },
  {
   "cell_type": "code",
   "execution_count": 11,
   "metadata": {
    "colab": {
     "base_uri": "https://localhost:8080/"
    },
    "id": "6F3hUbIuxGdO",
    "outputId": "c654f5b9-c638-4e55-b031-340e2bcd7c76",
    "ExecuteTime": {
     "start_time": "2023-04-20T15:10:11.790665Z",
     "end_time": "2023-04-20T15:10:11.897134Z"
    }
   },
   "outputs": [
    {
     "name": "stdout",
     "output_type": "stream",
     "text": [
      "Pretrained weights loaded.\n"
     ]
    }
   ],
   "source": [
    "#@markdown ### **Loading Pretrained Checkpoint**\n",
    "#@markdown Set `load_pretrained = True` to load pretrained weights.\n",
    "\n",
    "load_pretrained = True\n",
    "if load_pretrained:\n",
    "  ckpt_path = \"model_99\"\n",
    "  if not os.path.isfile(ckpt_path):\n",
    "      id = \"1mHDr_DEZSdiGo9yecL50BBQYzR8Fjhl_&confirm=t\"\n",
    "      gdown.download(id=id, output=ckpt_path, quiet=False)\n",
    "\n",
    "  state_dict = torch.load(ckpt_path, map_location='cuda')\n",
    "  ema_noise_pred_net = noise_pred_net\n",
    "  ema_noise_pred_net.load_state_dict(state_dict)\n",
    "  print('Pretrained weights loaded.')\n",
    "else:\n",
    "  print(\"Skipped pretrained weight loading.\")"
   ]
  },
  {
   "cell_type": "code",
   "execution_count": 29,
   "outputs": [],
   "source": [
    "# Ts = 0.05  # discrete simulation time step\n",
    "#\n",
    "# # dynamic matrices for double integrator system\n",
    "# A = torch.Tensor([[1.0, Ts, 0, 0],\n",
    "#               [0, 1.0, 0, 0],\n",
    "#               [0, 0, 1.0, Ts],\n",
    "#               [0, 0, 0, 1.0]])\n",
    "# n_state = 4\n",
    "# B = torch.Tensor([[0,0],\n",
    "#               [Ts,0],\n",
    "#               [0,0],\n",
    "#               [0,Ts]])\n",
    "# n_input = 2\n",
    "# # goal state (origin with zero velocity)\n",
    "# x_target = torch.Tensor([[0],\n",
    "#                      [0],\n",
    "#                      [0],\n",
    "#                      [0]])\n",
    "\n",
    "Ts = 0.05  # discrete simulation time step\n",
    "\n",
    "# dynamic matrices for double integrator system\n",
    "A_mat = np.array([[1.0, Ts, 0, 0],\n",
    "              [0, 1.0, 0, 0],\n",
    "              [0, 0, 1.0, Ts],\n",
    "              [0, 0, 0, 1.0]])\n",
    "n_state = 4\n",
    "B_mat = np.array([[0,0],\n",
    "              [Ts,0],\n",
    "              [0,0],\n",
    "              [0,Ts]])\n",
    "n_input = 2\n",
    "# goal state (origin with zero velocity)\n",
    "x_target = np.array([[0],\n",
    "                     [0],\n",
    "                     [0],\n",
    "                     [0]])"
   ],
   "metadata": {
    "collapsed": false,
    "ExecuteTime": {
     "start_time": "2023-04-20T15:29:46.126358Z",
     "end_time": "2023-04-20T15:29:46.171199Z"
    }
   }
  },
  {
   "cell_type": "code",
   "execution_count": 56,
   "metadata": {
    "colab": {
     "base_uri": "https://localhost:8080/",
     "height": 326,
     "referenced_widgets": [
      "1ecf782cd9924ed3929ef3b8038e28ad",
      "ed6d09a2adb241c7b7d219568cee69cc",
      "2310040a03d44a69b7e90b622335b04e",
      "438ffb93453543df9f041a567165ec89",
      "bac8e8568d9a4aaebde2e433a8b9b0f4",
      "420cde36b1fc43f6a86ddb229945db89",
      "a13893960d0f4c4e8c2111ffc3deb8e4",
      "a1e3b1b332a74e52bc91d66088d0ef40",
      "6111ebbeec0b4d6e9237f91506b71499",
      "f6f2b4349920425987791852db445713",
      "9b1a55d246aa441792c63bc7cdee51aa"
     ]
    },
    "id": "OyLjlNQk5nr9",
    "outputId": "012058f9-6142-4e10-b4f2-644638502987",
    "ExecuteTime": {
     "start_time": "2023-04-20T15:51:02.777024Z",
     "end_time": "2023-04-20T15:51:23.891018Z"
    }
   },
   "outputs": [
    {
     "data": {
      "text/plain": "Eval PushTStateEnv:   0%|          | 0/300 [00:00<?, ?it/s]",
      "application/vnd.jupyter.widget-view+json": {
       "version_major": 2,
       "version_minor": 0,
       "model_id": "71cef83f29874e0a90cb3fbad33d337f"
      }
     },
     "metadata": {},
     "output_type": "display_data"
    },
    {
     "name": "stdout",
     "output_type": "stream",
     "text": [
      "Score:  0.9510622562243216\n"
     ]
    }
   ],
   "source": [
    "#@markdown ### **Inference**\n",
    "\n",
    "# limit enviornment interaction to 200 steps before termination\n",
    "max_steps = 300\n",
    "# env = PushTEnv()\n",
    "# # use a seed >200 to avoid initial states seen in the training dataset\n",
    "# env.seed(100000)\n",
    "#\n",
    "# # get first observation\n",
    "# obs = env.reset()\n",
    "\n",
    "from PushTDataset import *\n",
    "# dataset_pushT = load_dataset_push_t()\n",
    "dataset_LQR = load_dataset_LQR()\n",
    "\n",
    "stats = dataset_LQR.stats\n",
    "\n",
    "# get first observation\n",
    "obs = np.random.random(4)*10-5\n",
    "obs[1] = 0\n",
    "obs[3] = 0\n",
    "\n",
    "OBS = []\n",
    "ACTION_PRED = []\n",
    "############ obs\n",
    "# keep a queue of last 2 steps of observations\n",
    "obs_deque = collections.deque(\n",
    "    [obs] * obs_horizon, maxlen=obs_horizon)\n",
    "# save visualization and rewards\n",
    "# imgs = [env.render(mode='rgb_array')]\n",
    "rewards = list()\n",
    "done = False\n",
    "step_idx = 0\n",
    "\n",
    "with tqdm(total=max_steps, desc=\"Eval PushTStateEnv\") as pbar:\n",
    "    while not done:\n",
    "        B = 1\n",
    "        # stack the last obs_horizon (2) number of observations\n",
    "        obs_seq = np.stack(obs_deque)\n",
    "        # normalize observation\n",
    "        nobs = normalize_data(obs_seq, stats=stats['obs'])\n",
    "        # device transfer\n",
    "        nobs = torch.from_numpy(nobs).to(device, dtype=torch.float32)\n",
    "\n",
    "        # infer action\n",
    "        with torch.no_grad():\n",
    "            # reshape observation to (B,obs_horizon*obs_dim)\n",
    "            obs_cond = nobs.unsqueeze(0).flatten(start_dim=1)\n",
    "\n",
    "            # initialize action from Guassian noise\n",
    "            noisy_action = torch.randn(\n",
    "                (B, pred_horizon, action_dim), device=device)\n",
    "            naction = noisy_action\n",
    "            \n",
    "            # init scheduler\n",
    "            noise_scheduler.set_timesteps(num_diffusion_iters)\n",
    "\n",
    "            for k in noise_scheduler.timesteps:\n",
    "                # predict noise\n",
    "                noise_pred = ema_noise_pred_net(\n",
    "                    sample=naction, \n",
    "                    timestep=k,\n",
    "                    global_cond=obs_cond\n",
    "                )\n",
    "\n",
    "                # inverse diffusion step (remove noise)\n",
    "                naction = noise_scheduler.step(\n",
    "                    model_output=noise_pred,\n",
    "                    timestep=k,\n",
    "                    sample=naction\n",
    "                ).prev_sample\n",
    "\n",
    "\n",
    "        # unnormalize action\n",
    "        naction = naction.detach().to('cpu').numpy()\n",
    "\n",
    "        # print('naction: ', action_pred.shape)\n",
    "        # (B, pred_horizon, action_dim)\n",
    "        naction = naction[0]\n",
    "        action_pred = unnormalize_data(naction, stats=stats['action'])\n",
    "\n",
    "        # print('action_pred: ', action_pred.shape)\n",
    "\n",
    "        # only take action_horizon number of actions\n",
    "        start = obs_horizon - 1 # obs horizon is 2\n",
    "        end = start + action_horizon\n",
    "        action = action_pred[start:end,:]\n",
    "        # (action_horizon, action_dim)\n",
    "        # print('action_pred: ', action.shape)\n",
    "\n",
    "        # execute action_horizon number of steps\n",
    "        # without replanning\n",
    "        for i in range(len(action)):\n",
    "            # stepping env\n",
    "            # print(obs.shape, action[i].shape) #, next_obs.shape)\n",
    "            # print(A_mat.shape, B_mat.shape)\n",
    "            OBS.append(obs)\n",
    "            ACTION_PRED.append(action[i])\n",
    "\n",
    "            obs = A_mat@obs + B_mat@action[i]\n",
    "\n",
    "            # next_rew =\n",
    "            # done = next_rew < 1\n",
    "            # print(obs, action[i], next_obs)\n",
    "            dist = np.linalg.norm([obs[0], obs[2]])\n",
    "            rew_enable = dist < 1\n",
    "\n",
    "            reward = rew_enable*(1- dist)\n",
    "            done = reward > 0.95 and (obs[1]**2 + obs[3]**2) < 0.1\n",
    "            # obs, reward, done, info = env.step(action[i])\n",
    "            # # save observations\n",
    "            # obs_deque.append(obs)\n",
    "            # x, xdot, y, ydot\n",
    "            obs_deque.append(obs)\n",
    "\n",
    "\n",
    "            # and reward/vis\n",
    "            rewards.append(reward)\n",
    "            # imgs.append(env.render(mode='rgb_array'))\n",
    "\n",
    "            # update progress bar\n",
    "            step_idx += 1\n",
    "            pbar.update(1)\n",
    "            pbar.set_postfix(reward=reward)\n",
    "            if step_idx > max_steps:\n",
    "                done = True\n",
    "            if done:\n",
    "                break\n",
    "\n",
    "# print out the maximum target coverage\n",
    "print('Score: ', max(rewards))\n",
    "\n",
    "# visualize\n",
    "# from IPython.display import Video\n",
    "# vwrite('vis.mp4', imgs)\n",
    "# Video('vis.mp4', embed=True, width=256, height=256)"
   ]
  },
  {
   "cell_type": "code",
   "execution_count": 62,
   "outputs": [
    {
     "data": {
      "text/plain": "<matplotlib.patches.Rectangle at 0x7f040c1e4bb0>"
     },
     "execution_count": 62,
     "metadata": {},
     "output_type": "execute_result"
    },
    {
     "data": {
      "text/plain": "<Figure size 1200x400 with 3 Axes>",
      "image/png": "[encoded data removed]"
     },
     "metadata": {},
     "output_type": "display_data"
    }
   ],
   "source": [
    "import matplotlib.patches as patches\n",
    "\n",
    "OBS = np.array(OBS)\n",
    "fig, (ax1, ax2, ax3) = plt.subplots(1,3, figsize = (12,4))\n",
    "\n",
    "ax1.plot(OBS[:,0], OBS[:,2]); ax1.grid()\n",
    "ax2.plot(OBS[:,1]); ax2.grid()\n",
    "ax3.plot(OBS[:,3]); ax3.grid()\n",
    "rect = patches.Rectangle((-0.1, -0.1), 0.2, 0.2, linewidth=1, edgecolor='r', facecolor='none')\n",
    "\n",
    "# Add the patch to the Axes\n",
    "ax1.add_patch(rect)\n"
   ],
   "metadata": {
    "collapsed": false,
    "ExecuteTime": {
     "start_time": "2023-04-20T17:27:15.848616Z",
     "end_time": "2023-04-20T17:27:16.053059Z"
    }
   }
  },
  {
   "cell_type": "code",
   "execution_count": 47,
   "outputs": [
    {
     "data": {
      "text/plain": "array([[-2.66833174e+00,  3.54354785e+00,  1.50327594e+00,\n        -3.04734086e-01],\n       [-2.49115434e+00,  3.41536027e+00,  1.48803923e+00,\n        -4.02705579e-01],\n       [-2.32038633e+00,  3.27804157e+00,  1.46790395e+00,\n        -4.81116165e-01],\n       [-2.15648425e+00,  3.14101873e+00,  1.44384814e+00,\n        -5.48761448e-01],\n       [-1.99943332e+00,  3.00105155e+00,  1.41641007e+00,\n        -6.03905842e-01],\n       [-1.84938074e+00,  2.86030990e+00,  1.38621478e+00,\n        -6.39295669e-01],\n       [-1.70636524e+00,  2.72461430e+00,  1.35425000e+00,\n        -6.68397667e-01],\n       [-1.57013453e+00,  2.59256186e+00,  1.32083011e+00,\n        -7.00563908e-01],\n       [-1.44050643e+00,  2.46750962e+00,  1.28580192e+00,\n        -7.20696251e-01],\n       [-1.31713095e+00,  2.34119755e+00,  1.24976711e+00,\n        -7.45568367e-01],\n       [-1.20007108e+00,  2.22341066e+00,  1.21248869e+00,\n        -7.66406711e-01],\n       [-1.08890054e+00,  2.10143234e+00,  1.17416835e+00,\n        -7.87964541e-01],\n       [-9.83828926e-01,  1.98581382e+00,  1.13477012e+00,\n        -7.96879299e-01],\n       [-8.84538235e-01,  1.87079824e+00,  1.09492616e+00,\n        -7.99596931e-01],\n       [-7.90998323e-01,  1.76127288e+00,  1.05494631e+00,\n        -8.01499474e-01],\n       [-7.02934679e-01,  1.66132729e+00,  1.01487134e+00,\n        -8.02428813e-01],\n       [-6.19868315e-01,  1.56984995e+00,  9.74749898e-01,\n        -7.95688962e-01],\n       [-5.41375817e-01,  1.48233935e+00,  9.34965450e-01,\n        -7.93433939e-01],\n       [-4.67258849e-01,  1.39308056e+00,  8.95293753e-01,\n        -7.86495526e-01],\n       [-3.97604821e-01,  1.30709493e+00,  8.55968977e-01,\n        -7.78761634e-01],\n       [-3.32250075e-01,  1.22841360e+00,  8.17030895e-01,\n        -7.65926389e-01],\n       [-2.70829395e-01,  1.15063706e+00,  7.78734576e-01,\n        -7.51290595e-01],\n       [-2.13297541e-01,  1.07903832e+00,  7.41170046e-01,\n        -7.38802223e-01],\n       [-1.59345625e-01,  1.01337844e+00,  7.04229935e-01,\n        -7.26349396e-01],\n       [-1.08676703e-01,  9.49887681e-01,  6.67912465e-01,\n        -7.13473703e-01],\n       [-6.11823191e-02,  8.87858229e-01,  6.32238780e-01,\n        -6.94003757e-01],\n       [-1.67894077e-02,  8.35715645e-01,  5.97538592e-01,\n        -6.74308283e-01],\n       [ 2.49963746e-02,  7.83668184e-01,  5.63823178e-01,\n        -6.54334576e-01],\n       [ 6.41797838e-02,  7.31886620e-01,  5.31106449e-01,\n        -6.36802458e-01],\n       [ 1.00774115e-01,  6.82801474e-01,  4.99266326e-01,\n        -6.16676764e-01],\n       [ 1.34914188e-01,  6.34480314e-01,  4.68432488e-01,\n        -5.96511848e-01],\n       [ 1.66638204e-01,  5.91709281e-01,  4.38606896e-01,\n        -5.76908301e-01],\n       [ 1.96223668e-01,  5.50257996e-01,  4.09761481e-01,\n        -5.57269209e-01],\n       [ 2.23736568e-01,  5.15388967e-01,  3.81898020e-01,\n        -5.35240007e-01],\n       [ 2.49506016e-01,  4.81779765e-01,  3.55136020e-01,\n        -5.15430543e-01],\n       [ 2.73595005e-01,  4.46113795e-01,  3.29364493e-01,\n        -4.97047791e-01],\n       [ 2.95900694e-01,  4.12141326e-01,  3.04512103e-01,\n        -4.78677297e-01],\n       [ 3.16507761e-01,  3.83481550e-01,  2.80578238e-01,\n        -4.60626709e-01],\n       [ 3.35681838e-01,  3.55738556e-01,  2.57546903e-01,\n        -4.40994971e-01],\n       [ 3.53468766e-01,  3.25759033e-01,  2.35497154e-01,\n        -4.22184451e-01],\n       [ 3.69756718e-01,  2.99239913e-01,  2.14387932e-01,\n        -3.99874564e-01],\n       [ 3.84718713e-01,  2.75164048e-01,  1.94394203e-01,\n        -3.81391304e-01],\n       [ 3.98476916e-01,  2.51173570e-01,  1.75324638e-01,\n        -3.62857792e-01],\n       [ 4.11035594e-01,  2.26765147e-01,  1.57181749e-01,\n        -3.45198201e-01],\n       [ 4.22373851e-01,  2.02558955e-01,  1.39921839e-01,\n        -3.28557166e-01],\n       [ 4.32501799e-01,  1.81170520e-01,  1.23493980e-01,\n        -3.12036248e-01],\n       [ 4.41560325e-01,  1.59958851e-01,  1.07892168e-01,\n        -2.95168459e-01],\n       [ 4.49558268e-01,  1.38001173e-01,  9.31337450e-02,\n        -2.78750500e-01],\n       [ 4.56458326e-01,  1.16563304e-01,  7.91962200e-02,\n        -2.65268087e-01],\n       [ 4.62286492e-01,  8.18433272e-02,  6.59328156e-02,\n        -2.59965980e-01],\n       [ 4.66378658e-01,  7.72827905e-02,  5.29345166e-02,\n        -3.25814391e-01],\n       [ 4.70242798e-01,  4.33769825e-02,  3.66437971e-02,\n        -3.84163984e-01],\n       [ 4.72411647e-01,  1.51066890e-02,  1.74355979e-02,\n        -4.08828956e-01],\n       [ 4.73166981e-01, -1.98694473e-02, -3.00584993e-03,\n        -4.20484375e-01],\n       [ 4.72173509e-01, -4.66057784e-02, -2.40300687e-02,\n        -4.28411221e-01],\n       [ 4.69843220e-01, -6.28859980e-02, -4.54506298e-02,\n        -4.28226401e-01],\n       [ 4.66698920e-01, -8.88358737e-02, -6.68619498e-02,\n        -4.25593863e-01],\n       [ 4.62257126e-01, -9.05112426e-02, -8.81416430e-02,\n        -3.98050248e-01],\n       [ 4.57731564e-01, -9.40823435e-02, -1.08044155e-01,\n        -3.73037698e-01],\n       [ 4.53027447e-01, -9.50206915e-02, -1.26696040e-01,\n        -3.45145984e-01],\n       [ 4.48276412e-01, -9.97355232e-02, -1.43953339e-01,\n        -3.22468388e-01],\n       [ 4.43289636e-01, -1.03962753e-01, -1.60076759e-01,\n        -2.99187748e-01],\n       [ 4.38091499e-01, -1.05379715e-01, -1.75036146e-01,\n        -2.77880482e-01],\n       [ 4.32822513e-01, -1.10679519e-01, -1.88930170e-01,\n        -2.56992404e-01],\n       [ 4.27288537e-01, -1.14965171e-01, -2.01779791e-01,\n        -2.37890168e-01],\n       [ 4.21540278e-01, -1.17713864e-01, -2.13674299e-01,\n        -2.19207120e-01],\n       [ 4.15654585e-01, -1.19857362e-01, -2.24634655e-01,\n        -2.03676566e-01],\n       [ 4.09661717e-01, -1.23032239e-01, -2.34818483e-01,\n        -1.89214821e-01],\n       [ 4.03510105e-01, -1.24690381e-01, -2.44279224e-01,\n        -1.74237057e-01],\n       [ 3.97275586e-01, -1.29841882e-01, -2.52991077e-01,\n        -1.60107476e-01],\n       [ 3.90783492e-01, -1.29088228e-01, -2.60996451e-01,\n        -1.41524935e-01],\n       [ 3.84329081e-01, -1.26812595e-01, -2.68072698e-01,\n        -1.28674982e-01],\n       [ 3.77988451e-01, -1.30737226e-01, -2.74506447e-01,\n        -1.13176296e-01],\n       [ 3.71451589e-01, -1.31180481e-01, -2.80165262e-01,\n        -9.94573238e-02],\n       [ 3.64892565e-01, -1.37333403e-01, -2.85138128e-01,\n        -8.25944368e-02],\n       [ 3.58025895e-01, -1.51965811e-01, -2.89267850e-01,\n        -5.55423260e-02],\n       [ 3.50427605e-01, -1.61776125e-01, -2.92044966e-01,\n        -2.65450331e-02],\n       [ 3.42338798e-01, -1.72671747e-01, -2.93372218e-01,\n        -5.14338804e-03],\n       [ 3.33705211e-01, -1.73841537e-01, -2.93629387e-01,\n         1.19879267e-02],\n       [ 3.25013134e-01, -1.80279081e-01, -2.93029991e-01,\n         3.11784133e-02],\n       [ 3.15999180e-01, -1.85963874e-01, -2.91471070e-01,\n         4.52969633e-02],\n       [ 3.06700987e-01, -1.85237184e-01, -2.89206222e-01,\n         5.16592991e-02],\n       [ 2.97439127e-01, -1.82835718e-01, -2.86623257e-01,\n         5.77115335e-02],\n       [ 2.88297341e-01, -1.79272545e-01, -2.83737680e-01,\n         6.38140214e-02],\n       [ 2.79333714e-01, -1.77443319e-01, -2.80546979e-01,\n         6.77703129e-02],\n       [ 2.70461548e-01, -1.74550506e-01, -2.77158464e-01,\n         7.27610931e-02],\n       [ 2.61734023e-01, -1.72918268e-01, -2.73520409e-01,\n         7.52146793e-02],\n       [ 2.53088110e-01, -1.69006059e-01, -2.69759675e-01,\n         8.06295509e-02],\n       [ 2.44637807e-01, -1.65260129e-01, -2.65728197e-01,\n         8.46704155e-02],\n       [ 2.36374800e-01, -1.59071693e-01, -2.61494677e-01,\n         8.63714235e-02],\n       [ 2.28421216e-01, -1.52419623e-01, -2.57176105e-01,\n         8.87906902e-02],\n       [ 2.20800234e-01, -1.46929260e-01, -2.52736571e-01,\n         8.86151552e-02],\n       [ 2.13453771e-01, -1.43080716e-01, -2.48305813e-01,\n         8.95599077e-02],\n       [ 2.06299736e-01, -1.40243330e-01, -2.43827818e-01,\n         8.93782442e-02],\n       [ 1.99287569e-01, -1.36501894e-01, -2.39358906e-01,\n         8.92370286e-02],\n       [ 1.92462474e-01, -1.33506467e-01, -2.34897054e-01,\n         9.06892200e-02],\n       [ 1.85787151e-01, -1.33548255e-01, -2.30362593e-01,\n         9.08188836e-02],\n       [ 1.79109738e-01, -1.25855817e-01, -2.25821649e-01,\n         8.86479129e-02],\n       [ 1.72816947e-01, -1.20987878e-01, -2.21389253e-01,\n         8.47916081e-02],\n       [ 1.66767554e-01, -1.15973882e-01, -2.17149673e-01,\n         8.35840357e-02],\n       [ 1.60968859e-01, -1.10802595e-01, -2.12970471e-01,\n         8.02486523e-02],\n       [ 1.55428730e-01, -1.07370498e-01, -2.08958038e-01,\n         7.78987297e-02],\n       [ 1.50060205e-01, -1.05828890e-01, -2.05063102e-01,\n         7.71642766e-02],\n       [ 1.44768760e-01, -1.04737434e-01, -2.01204888e-01,\n         7.49553093e-02],\n       [ 1.39531889e-01, -1.01906039e-01, -1.97457123e-01,\n         7.35197571e-02],\n       [ 1.34436587e-01, -9.91165889e-02, -1.93781135e-01,\n         7.30647630e-02],\n       [ 1.29480757e-01, -9.29581133e-02, -1.90127897e-01,\n         7.23548238e-02],\n       [ 1.24832851e-01, -8.69449448e-02, -1.86510156e-01,\n         6.92351632e-02],\n       [ 1.20485604e-01, -7.95865631e-02, -1.83048397e-01,\n         6.91380728e-02],\n       [ 1.16506276e-01, -7.56885850e-02, -1.79591494e-01,\n         6.87272038e-02],\n       [ 1.12721847e-01, -7.14865108e-02, -1.76155134e-01,\n         6.91387779e-02],\n       [ 1.09147521e-01, -6.76679272e-02, -1.72698195e-01,\n         6.88382217e-02],\n       [ 1.05764125e-01, -6.30838604e-02, -1.69256284e-01,\n         7.03664063e-02],\n       [ 1.02609932e-01, -6.20306038e-02, -1.65737963e-01,\n         6.96184705e-02],\n       [ 9.95084017e-02, -6.07496495e-02, -1.62257040e-01,\n         6.95471197e-02],\n       [ 9.64709193e-02, -5.85998493e-02, -1.58779684e-01,\n         7.16771218e-02],\n       [ 9.35409268e-02, -5.81158366e-02, -1.55195828e-01,\n         7.26978676e-02],\n       [ 9.06351350e-02, -5.68288903e-02, -1.51560934e-01,\n         7.32552997e-02],\n       [ 8.77936904e-02, -5.54131151e-02, -1.47898169e-01,\n         7.33935433e-02],\n       [ 8.50230347e-02, -5.31607013e-02, -1.44228492e-01,\n         7.41875350e-02],\n       [ 8.23649996e-02, -5.06760958e-02, -1.40519115e-01,\n         7.39764547e-02],\n       [ 7.98311948e-02, -4.99351743e-02, -1.36820293e-01,\n         7.86559078e-02],\n       [ 7.73344361e-02, -4.55675699e-02, -1.32887497e-01,\n         7.87647345e-02],\n       [ 7.50560576e-02, -3.90241058e-02, -1.28949260e-01,\n         7.60912278e-02],\n       [ 7.31048523e-02, -3.14440185e-02, -1.25144699e-01,\n         7.23918123e-02],\n       [ 7.15326514e-02, -2.31156752e-02, -1.21525108e-01,\n         6.97844932e-02],\n       [ 7.03768676e-02, -1.62980751e-02, -1.18035884e-01,\n         6.88453486e-02],\n       [ 6.95619639e-02, -1.55668907e-02, -1.14593616e-01,\n         6.82996529e-02],\n       [ 6.87836194e-02, -1.44552116e-02, -1.11178634e-01,\n         6.63725960e-02],\n       [ 6.80608588e-02, -1.39704498e-02, -1.07860004e-01,\n         6.70538236e-02],\n       [ 6.73623363e-02, -1.37366047e-02, -1.04507313e-01,\n         6.50875444e-02],\n       [ 6.66755061e-02, -1.85540501e-02, -1.01252936e-01,\n         6.35281968e-02],\n       [ 6.57478035e-02, -1.90422459e-02, -9.80765257e-02,\n         6.32570573e-02],\n       [ 6.47956913e-02, -1.87290063e-02, -9.49136728e-02,\n         6.20641933e-02],\n       [ 6.38592409e-02, -2.49231231e-02, -9.18104632e-02,\n         5.55370934e-02],\n       [ 6.26130848e-02, -2.79826535e-02, -8.90336085e-02,\n         5.42939758e-02],\n       [ 6.12139521e-02, -2.76439477e-02, -8.63189097e-02,\n         5.29466738e-02],\n       [ 5.98317547e-02, -2.79508843e-02, -8.36715760e-02,\n         5.06470049e-02],\n       [ 5.84342105e-02, -2.68069980e-02, -8.11392258e-02,\n         4.95117487e-02],\n       [ 5.70938606e-02, -2.60593354e-02, -7.86636383e-02,\n         4.89415390e-02],\n       [ 5.57908938e-02, -2.59228610e-02, -7.62165614e-02,\n         4.66112276e-02],\n       [ 5.44947508e-02, -2.62597578e-02, -7.38860000e-02,\n         4.38886930e-02],\n       [ 5.31817629e-02, -2.53645412e-02, -7.16915654e-02,\n         4.16306978e-02],\n       [ 5.19135358e-02, -2.42303920e-02, -6.96100305e-02,\n         4.17848754e-02],\n       [ 5.07020162e-02, -2.31853743e-02, -6.75207867e-02,\n         4.08310224e-02],\n       [ 4.95427475e-02, -2.46375398e-02, -6.54792356e-02,\n         3.57686311e-02],\n       [ 4.83108705e-02, -2.06242149e-02, -6.36908040e-02,\n         3.88436460e-02],\n       [ 4.72796598e-02, -1.43923368e-02, -6.17486217e-02,\n         4.00690833e-02],\n       [ 4.65600429e-02, -1.01415773e-02, -5.97451676e-02,\n         3.78515361e-02],\n       [ 4.60529641e-02, -5.18974904e-03, -5.78525908e-02,\n         3.48532196e-02],\n       [ 4.57934766e-02, -4.13187935e-04, -5.61099298e-02,\n         3.52500853e-02],\n       [ 4.57728172e-02,  4.50868016e-03, -5.43474255e-02,\n         3.34946261e-02],\n       [ 4.59982512e-02,  8.15723956e-03, -5.26726942e-02,\n         3.39589051e-02],\n       [ 4.64061132e-02,  7.54770489e-03, -5.09747490e-02,\n         3.39684504e-02],\n       [ 4.67834985e-02,  5.14280496e-03, -4.92763264e-02,\n         3.55015378e-02],\n       [ 4.70406387e-02,  4.89728677e-03, -4.75012495e-02,\n         3.27385552e-02],\n       [ 4.72855030e-02,  5.06072538e-03, -4.58643218e-02,\n         3.32347024e-02],\n       [ 4.75385393e-02,  1.36828566e-03, -4.42025867e-02,\n         3.18812720e-02],\n       [ 4.76069536e-02,  1.81335019e-03, -4.26085231e-02,\n         3.39928886e-02],\n       [ 4.76976211e-02, -1.35628396e-03, -4.09088786e-02,\n         3.43113097e-02],\n       [ 4.76298069e-02, -2.34556423e-03, -3.91933132e-02,\n         3.26784202e-02],\n       [ 4.75125287e-02, -5.55864067e-03, -3.75593921e-02,\n         3.66212290e-02],\n       [ 4.72345967e-02, -7.80475152e-03, -3.57283307e-02,\n         3.81016114e-02],\n       [ 4.68443591e-02, -8.06674782e-03, -3.38232501e-02,\n         3.67003788e-02],\n       [ 4.64410217e-02, -1.17741676e-02, -3.19882312e-02,\n         3.89039227e-02],\n       [ 4.58523133e-02, -1.29065079e-02, -3.00430350e-02,\n         4.11687516e-02],\n       [ 4.52069879e-02, -1.59008748e-02, -2.79845975e-02,\n         4.28293115e-02],\n       [ 4.44119442e-02, -2.09018265e-02, -2.58431319e-02,\n         4.57903365e-02],\n       [ 4.33668529e-02, -2.45598120e-02, -2.35536151e-02,\n         4.63612513e-02],\n       [ 4.21388623e-02, -2.11711573e-02, -2.12355525e-02,\n         4.73844485e-02],\n       [ 4.10803044e-02, -1.96475255e-02, -1.88663301e-02,\n         4.57920070e-02],\n       [ 4.00979281e-02, -1.98121511e-02, -1.65767297e-02,\n         4.54865480e-02],\n       [ 3.91073206e-02, -1.86165834e-02, -1.43024023e-02,\n         4.41723400e-02],\n       [ 3.81764914e-02, -1.98298162e-02, -1.20937853e-02,\n         4.08038627e-02],\n       [ 3.71850006e-02, -2.06101241e-02, -1.00535922e-02,\n         3.78827651e-02],\n       [ 3.61544944e-02, -2.27760914e-02, -8.15945394e-03,\n         3.69865199e-02],\n       [ 3.50156898e-02, -2.19610183e-02, -6.31012794e-03,\n         3.56808917e-02],\n       [ 3.39176389e-02, -1.92839185e-02, -4.52608336e-03,\n         3.34952126e-02],\n       [ 3.29534430e-02, -1.61836309e-02, -2.85132273e-03,\n         3.25683250e-02],\n       [ 3.21442614e-02, -1.27507850e-02, -1.22290648e-03,\n         3.24418178e-02],\n       [ 3.15067222e-02, -1.05845067e-02,  3.99184412e-04,\n         3.21179734e-02],\n       [ 3.09774968e-02, -1.14943924e-02,  2.00508308e-03,\n         3.28997081e-02],\n       [ 3.04027772e-02, -1.13054876e-02,  3.65006849e-03,\n         3.43629307e-02],\n       [ 2.98375028e-02, -1.32729686e-02,  5.36821502e-03,\n         3.26675307e-02],\n       [ 2.91738544e-02, -1.47183929e-02,  7.00159156e-03,\n         3.14170589e-02],\n       [ 2.84379348e-02, -1.36621402e-02,  8.57244450e-03,\n         2.94507797e-02],\n       [ 2.77548277e-02, -1.40627025e-02,  1.00449835e-02,\n         2.74293441e-02],\n       [ 2.70516926e-02, -1.50407477e-02,  1.14164507e-02,\n         2.51358036e-02],\n       [ 2.62996552e-02, -1.57431590e-02,  1.26732409e-02,\n         2.38926860e-02],\n       [ 2.55124973e-02, -1.54898398e-02,  1.38678752e-02,\n         2.32244205e-02],\n       [ 2.47380053e-02, -1.58956450e-02,  1.50290962e-02,\n         2.05165943e-02],\n       [ 2.39432231e-02, -1.72826470e-02,  1.60549259e-02,\n         1.98630372e-02],\n       [ 2.30790907e-02, -1.73528980e-02,  1.70480778e-02,\n         1.81100294e-02],\n       [ 2.22114458e-02, -1.61872906e-02,  1.79535792e-02,\n         1.59035134e-02],\n       [ 2.14020813e-02, -1.34907167e-02,  1.87487549e-02,\n         1.72686803e-02],\n       [ 2.07275454e-02, -1.35459875e-02,  1.96121889e-02,\n         1.75466533e-02],\n       [ 2.00502461e-02, -1.53224722e-02,  2.04895216e-02,\n         1.90564524e-02],\n       [ 1.92841225e-02, -1.27060418e-02,  2.14423442e-02,\n         2.06863699e-02],\n       [ 1.86488204e-02, -1.23074156e-02,  2.24766627e-02,\n         2.16409280e-02],\n       [ 1.80334496e-02, -1.14444062e-02,  2.35587091e-02,\n         2.12398646e-02],\n       [ 1.74612293e-02, -1.83201177e-02,  2.46207023e-02,\n         2.26319968e-02]])"
     },
     "execution_count": 47,
     "metadata": {},
     "output_type": "execute_result"
    }
   ],
   "source": [
    "OBS"
   ],
   "metadata": {
    "collapsed": false,
    "ExecuteTime": {
     "start_time": "2023-04-20T15:44:41.225980Z",
     "end_time": "2023-04-20T15:44:41.232508Z"
    }
   }
  }
 ],
 "metadata": {
  "accelerator": "GPU",
  "colab": {
   "provenance": []
  },
  "gpuClass": "standard",
  "kernelspec": {
   "name": "base",
   "language": "python",
   "display_name": "base"
  },
  "language_info": {
   "name": "python"
  },
  "widgets": {
   "application/vnd.jupyter.widget-state+json": {
    "1ecf782cd9924ed3929ef3b8038e28ad": {
     "model_module": "@jupyter-widgets/controls",
     "model_module_version": "1.5.0",
     "model_name": "HBoxModel",
     "state": {
      "_dom_classes": [],
      "_model_module": "@jupyter-widgets/controls",
      "_model_module_version": "1.5.0",
      "_model_name": "HBoxModel",
      "_view_count": null,
      "_view_module": "@jupyter-widgets/controls",
      "_view_module_version": "1.5.0",
      "_view_name": "HBoxView",
      "box_style": "",
      "children": [
       "IPY_MODEL_ed6d09a2adb241c7b7d219568cee69cc",
       "IPY_MODEL_2310040a03d44a69b7e90b622335b04e",
       "IPY_MODEL_438ffb93453543df9f041a567165ec89"
      ],
      "layout": "IPY_MODEL_bac8e8568d9a4aaebde2e433a8b9b0f4"
     }
    },
    "2310040a03d44a69b7e90b622335b04e": {
     "model_module": "@jupyter-widgets/controls",
     "model_module_version": "1.5.0",
     "model_name": "FloatProgressModel",
     "state": {
      "_dom_classes": [],
      "_model_module": "@jupyter-widgets/controls",
      "_model_module_version": "1.5.0",
      "_model_name": "FloatProgressModel",
      "_view_count": null,
      "_view_module": "@jupyter-widgets/controls",
      "_view_module_version": "1.5.0",
      "_view_name": "ProgressView",
      "bar_style": "danger",
      "description": "",
      "description_tooltip": null,
      "layout": "IPY_MODEL_a1e3b1b332a74e52bc91d66088d0ef40",
      "max": 200,
      "min": 0,
      "orientation": "horizontal",
      "style": "IPY_MODEL_6111ebbeec0b4d6e9237f91506b71499",
      "value": 152
     }
    },
    "420cde36b1fc43f6a86ddb229945db89": {
     "model_module": "@jupyter-widgets/base",
     "model_module_version": "1.2.0",
     "model_name": "LayoutModel",
     "state": {
      "_model_module": "@jupyter-widgets/base",
      "_model_module_version": "1.2.0",
      "_model_name": "LayoutModel",
      "_view_count": null,
      "_view_module": "@jupyter-widgets/base",
      "_view_module_version": "1.2.0",
      "_view_name": "LayoutView",
      "align_content": null,
      "align_items": null,
      "align_self": null,
      "border": null,
      "bottom": null,
      "display": null,
      "flex": null,
      "flex_flow": null,
      "grid_area": null,
      "grid_auto_columns": null,
      "grid_auto_flow": null,
      "grid_auto_rows": null,
      "grid_column": null,
      "grid_gap": null,
      "grid_row": null,
      "grid_template_areas": null,
      "grid_template_columns": null,
      "grid_template_rows": null,
      "height": null,
      "justify_content": null,
      "justify_items": null,
      "left": null,
      "margin": null,
      "max_height": null,
      "max_width": null,
      "min_height": null,
      "min_width": null,
      "object_fit": null,
      "object_position": null,
      "order": null,
      "overflow": null,
      "overflow_x": null,
      "overflow_y": null,
      "padding": null,
      "right": null,
      "top": null,
      "visibility": null,
      "width": null
     }
    },
    "438ffb93453543df9f041a567165ec89": {
     "model_module": "@jupyter-widgets/controls",
     "model_module_version": "1.5.0",
     "model_name": "HTMLModel",
     "state": {
      "_dom_classes": [],
      "_model_module": "@jupyter-widgets/controls",
      "_model_module_version": "1.5.0",
      "_model_name": "HTMLModel",
      "_view_count": null,
      "_view_module": "@jupyter-widgets/controls",
      "_view_module_version": "1.5.0",
      "_view_name": "HTMLView",
      "description": "",
      "description_tooltip": null,
      "layout": "IPY_MODEL_f6f2b4349920425987791852db445713",
      "placeholder": "​",
      "style": "IPY_MODEL_9b1a55d246aa441792c63bc7cdee51aa",
      "value": " 152/200 [00:27&lt;00:07,  6.66it/s, reward=1]"
     }
    },
    "6111ebbeec0b4d6e9237f91506b71499": {
     "model_module": "@jupyter-widgets/controls",
     "model_module_version": "1.5.0",
     "model_name": "ProgressStyleModel",
     "state": {
      "_model_module": "@jupyter-widgets/controls",
      "_model_module_version": "1.5.0",
      "_model_name": "ProgressStyleModel",
      "_view_count": null,
      "_view_module": "@jupyter-widgets/base",
      "_view_module_version": "1.2.0",
      "_view_name": "StyleView",
      "bar_color": null,
      "description_width": ""
     }
    },
    "9b1a55d246aa441792c63bc7cdee51aa": {
     "model_module": "@jupyter-widgets/controls",
     "model_module_version": "1.5.0",
     "model_name": "DescriptionStyleModel",
     "state": {
      "_model_module": "@jupyter-widgets/controls",
      "_model_module_version": "1.5.0",
      "_model_name": "DescriptionStyleModel",
      "_view_count": null,
      "_view_module": "@jupyter-widgets/base",
      "_view_module_version": "1.2.0",
      "_view_name": "StyleView",
      "description_width": ""
     }
    },
    "a13893960d0f4c4e8c2111ffc3deb8e4": {
     "model_module": "@jupyter-widgets/controls",
     "model_module_version": "1.5.0",
     "model_name": "DescriptionStyleModel",
     "state": {
      "_model_module": "@jupyter-widgets/controls",
      "_model_module_version": "1.5.0",
      "_model_name": "DescriptionStyleModel",
      "_view_count": null,
      "_view_module": "@jupyter-widgets/base",
      "_view_module_version": "1.2.0",
      "_view_name": "StyleView",
      "description_width": ""
     }
    },
    "a1e3b1b332a74e52bc91d66088d0ef40": {
     "model_module": "@jupyter-widgets/base",
     "model_module_version": "1.2.0",
     "model_name": "LayoutModel",
     "state": {
      "_model_module": "@jupyter-widgets/base",
      "_model_module_version": "1.2.0",
      "_model_name": "LayoutModel",
      "_view_count": null,
      "_view_module": "@jupyter-widgets/base",
      "_view_module_version": "1.2.0",
      "_view_name": "LayoutView",
      "align_content": null,
      "align_items": null,
      "align_self": null,
      "border": null,
      "bottom": null,
      "display": null,
      "flex": null,
      "flex_flow": null,
      "grid_area": null,
      "grid_auto_columns": null,
      "grid_auto_flow": null,
      "grid_auto_rows": null,
      "grid_column": null,
      "grid_gap": null,
      "grid_row": null,
      "grid_template_areas": null,
      "grid_template_columns": null,
      "grid_template_rows": null,
      "height": null,
      "justify_content": null,
      "justify_items": null,
      "left": null,
      "margin": null,
      "max_height": null,
      "max_width": null,
      "min_height": null,
      "min_width": null,
      "object_fit": null,
      "object_position": null,
      "order": null,
      "overflow": null,
      "overflow_x": null,
      "overflow_y": null,
      "padding": null,
      "right": null,
      "top": null,
      "visibility": null,
      "width": null
     }
    },
    "bac8e8568d9a4aaebde2e433a8b9b0f4": {
     "model_module": "@jupyter-widgets/base",
     "model_module_version": "1.2.0",
     "model_name": "LayoutModel",
     "state": {
      "_model_module": "@jupyter-widgets/base",
      "_model_module_version": "1.2.0",
      "_model_name": "LayoutModel",
      "_view_count": null,
      "_view_module": "@jupyter-widgets/base",
      "_view_module_version": "1.2.0",
      "_view_name": "LayoutView",
      "align_content": null,
      "align_items": null,
      "align_self": null,
      "border": null,
      "bottom": null,
      "display": null,
      "flex": null,
      "flex_flow": null,
      "grid_area": null,
      "grid_auto_columns": null,
      "grid_auto_flow": null,
      "grid_auto_rows": null,
      "grid_column": null,
      "grid_gap": null,
      "grid_row": null,
      "grid_template_areas": null,
      "grid_template_columns": null,
      "grid_template_rows": null,
      "height": null,
      "justify_content": null,
      "justify_items": null,
      "left": null,
      "margin": null,
      "max_height": null,
      "max_width": null,
      "min_height": null,
      "min_width": null,
      "object_fit": null,
      "object_position": null,
      "order": null,
      "overflow": null,
      "overflow_x": null,
      "overflow_y": null,
      "padding": null,
      "right": null,
      "top": null,
      "visibility": null,
      "width": null
     }
    },
    "ed6d09a2adb241c7b7d219568cee69cc": {
     "model_module": "@jupyter-widgets/controls",
     "model_module_version": "1.5.0",
     "model_name": "HTMLModel",
     "state": {
      "_dom_classes": [],
      "_model_module": "@jupyter-widgets/controls",
      "_model_module_version": "1.5.0",
      "_model_name": "HTMLModel",
      "_view_count": null,
      "_view_module": "@jupyter-widgets/controls",
      "_view_module_version": "1.5.0",
      "_view_name": "HTMLView",
      "description": "",
      "description_tooltip": null,
      "layout": "IPY_MODEL_420cde36b1fc43f6a86ddb229945db89",
      "placeholder": "​",
      "style": "IPY_MODEL_a13893960d0f4c4e8c2111ffc3deb8e4",
      "value": "Eval PushTStateEnv:  76%"
     }
    },
    "f6f2b4349920425987791852db445713": {
     "model_module": "@jupyter-widgets/base",
     "model_module_version": "1.2.0",
     "model_name": "LayoutModel",
     "state": {
      "_model_module": "@jupyter-widgets/base",
      "_model_module_version": "1.2.0",
      "_model_name": "LayoutModel",
      "_view_count": null,
      "_view_module": "@jupyter-widgets/base",
      "_view_module_version": "1.2.0",
      "_view_name": "LayoutView",
      "align_content": null,
      "align_items": null,
      "align_self": null,
      "border": null,
      "bottom": null,
      "display": null,
      "flex": null,
      "flex_flow": null,
      "grid_area": null,
      "grid_auto_columns": null,
      "grid_auto_flow": null,
      "grid_auto_rows": null,
      "grid_column": null,
      "grid_gap": null,
      "grid_row": null,
      "grid_template_areas": null,
      "grid_template_columns": null,
      "grid_template_rows": null,
      "height": null,
      "justify_content": null,
      "justify_items": null,
      "left": null,
      "margin": null,
      "max_height": null,
      "max_width": null,
      "min_height": null,
      "min_width": null,
      "object_fit": null,
      "object_position": null,
      "order": null,
      "overflow": null,
      "overflow_x": null,
      "overflow_y": null,
      "padding": null,
      "right": null,
      "top": null,
      "visibility": null,
      "width": null
     }
    }
   }
  }
 },
 "nbformat": 4,
 "nbformat_minor": 0
}
